{
 "cells": [
  {
   "cell_type": "code",
   "execution_count": 318,
   "metadata": {
    "scrolled": true
   },
   "outputs": [],
   "source": [
    "import imageio \n",
    "from matplotlib import pyplot as plt\n",
    "from skimage import data, io\n",
    "import ipywidgets as widgets\n",
    "from ipywidgets import Button, Layout\n",
    "#from SimpleCV import Image\n",
    "import cv2\n",
    "from skimage import data, io, filters, exposure\n",
    "import skimage.morphology as mp\n",
    "import numpy as np\n",
    "from skimage.filters import roberts, sobel, scharr, prewitt, frangi, try_all_threshold, threshold_otsu, threshold_local\n",
    "from skimage import img_as_float\n",
    "from skimage.color import rgb2hsv, hsv2rgb, rgb2gray\n",
    "import cv2\n",
    "import numpy as np\n",
    "from skimage.morphology import disk, dilation, erosion\n",
    "from scipy.stats import moment\n",
    "import pandas as pd\n",
    "from sklearn.tree import DecisionTreeClassifier\n",
    "from sklearn.model_selection import train_test_split\n",
    "from sklearn import metrics"
   ]
  },
  {
   "cell_type": "code",
   "execution_count": 288,
   "metadata": {},
   "outputs": [
    {
     "data": {
      "application/vnd.jupyter.widget-view+json": {
       "model_id": "376a998959da4a6aba8f5f761ab19b89",
       "version_major": 2,
       "version_minor": 0
      },
      "text/plain": [
       "Dropdown(description='Image:', layout=Layout(height='30px', width='50%'), options=(('Healthy eye 1', ['photos/…"
      ]
     },
     "metadata": {},
     "output_type": "display_data"
    }
   ],
   "source": [
    "style = {'description_width': '40%'}\n",
    "\n",
    "selector = widgets.Dropdown(\n",
    "    options=[('Healthy eye 1', ['photos/Image_01L.jpg','photos/Image_01L_1stHO.png']), ('Healthy eye 2', ['photos/Image_02L.jpg','photos/Image_02L_1stHO.png']), \n",
    "             ('Healthy eye 3', 'photos/03_h.jpg'), ('Healthy eye 4', 'photos/04_h.jpg'),\n",
    "            ('Healthy eye 5', 'photos/05_h.jpg'), ('Healthy eye 6', 'photos/06_h.jpg'),\n",
    "            ('Healthy eye 7', 'photos/07_h.jpg'), ('Healthy eye 8', 'photos/08_h.jpg'), \n",
    "            ('Healthy eye 9', 'photos/09_h.jpg'), ('Healthy eye 10', 'photos/010_h.jpg'),\n",
    "            ('Healthy eye 11', 'photos/011_h.jpg'), ('Healthy eye 12', 'photos/012_h.jpg'), \n",
    "            ('Healthy eye 13', 'photos/013_h.jpg'), ('Healthy eye 14', 'photos/014_h.jpg'), \n",
    "            ('Healthy eye 15', 'photos/015_h.jpg')],\n",
    "    value=['photos/Image_01L.jpg','photos/Image_01L_1stHO.png'],\n",
    "    description='Image:',\n",
    "    layout=Layout(width='50%', height='30px'),\n",
    "    style=style\n",
    ")\n",
    "\n",
    "display(selector)"
   ]
  },
  {
   "cell_type": "code",
   "execution_count": 350,
   "metadata": {},
   "outputs": [
    {
     "data": {
      "text/plain": [
       "<matplotlib.image.AxesImage at 0x235041e4888>"
      ]
     },
     "execution_count": 350,
     "metadata": {},
     "output_type": "execute_result"
    },
    {
     "data": {
      "image/png": "[encoded data removed]",
      "text/plain": [
       "<Figure size 432x288 with 1 Axes>"
      ]
     },
     "metadata": {
      "needs_background": "light"
     },
     "output_type": "display_data"
    }
   ],
   "source": [
    "image =cv2.imread(selector.value[0])\n",
    "def create_mask(image):\n",
    "    img = rgb2gray(image)\n",
    "    img[img[:, :] > 0.05] = 1\n",
    "    img[img[:, :] <= 0.05] = 0\n",
    "    img = mp.erosion(img, disk(1))\n",
    "    img = mp.dilation(img, disk(3))\n",
    "    img = erosion(img, disk(3))\n",
    "    return img\n",
    "\n",
    "def image(img):\n",
    "    mask = create_mask(cv2.imread(img))\n",
    "    img = cv2.imread(img,0)\n",
    "    equ = cv2.equalizeHist(img)\n",
    "    clahe = cv2.createCLAHE(clipLimit=2.0, tileGridSize=(8,8))\n",
    "    cl1 = clahe.apply(img)\n",
    "    block_size = 213\n",
    "    adaptive_thresh = threshold_local(cl1, block_size, offset=10)\n",
    "    binary_adaptive = cl1 > adaptive_thresh\n",
    "    binary_adaptive = mp.dilation(mp.dilation(mp.dilation(mp.erosion(binary_adaptive))))\n",
    "    binary_adaptive[mask == 0 ] = 1\n",
    "    exit = np.zeros(binary_adaptive.shape)\n",
    "    exit[binary_adaptive == True] = 0\n",
    "    exit[binary_adaptive == False] = 1    \n",
    "    exit = dilation(exit)\n",
    "    return exit\n",
    "\n",
    "a = image(selector.value[0])\n",
    "plt.imshow(a, cmap = plt.cm.gray)\n"
   ]
  },
  {
   "cell_type": "code",
   "execution_count": 351,
   "metadata": {},
   "outputs": [],
   "source": [
    "def get_features(img):\n",
    "    cen_moments_2 = []\n",
    "    cen_moments_3 = []\n",
    "    cen_moments_4 = []\n",
    "    cen_moments_5 = []\n",
    "    #img  = cv2.cvtColor(img, cv2.COLOR_BGR2GRAY)\n",
    "    for i in range(len(img)//5):\n",
    "        for j in range(len(img[0])//5):\n",
    "            part_img = img [5*i:5*(i+1), 5*j:5*(j+1)].flatten()\n",
    "            cen_moments_2.append(moment(part_img, moment = 2))\n",
    "            cen_moments_3.append(moment(part_img, moment = 3))\n",
    "            cen_moments_4.append(moment(part_img, moment = 4))\n",
    "            cen_moments_5.append(moment(part_img, moment = 5))\n",
    "    return cen_moments_2, cen_moments_3,  cen_moments_4,  cen_moments_5\n",
    "\n",
    "def get_labels(img):\n",
    "    label = [] \n",
    "    for i in range(len(img)//5):\n",
    "        for j in range(len(img[0])//5):\n",
    "            label.append(img[i+2][j+2])\n",
    "    return label\n",
    "\n",
    "def create_klas(img1, hand, klasyfikator):\n",
    "    c,d,e,f  = get_features(img)\n",
    "    X = pd.DataFrame({\"c\": c, \"d\": d, \"e\":e, \"f\":f})\n",
    "    y = get_labels(cv2.imread(hand))\n",
    "    klasyfikator.fit(X = X, y = y)\n",
    "    return klasyfikator\n",
    "\n",
    "def prepare(img):\n",
    "    c,d,e,f  = get_features(img)\n",
    "    X = pd.DataFrame({\"c\": c, \"d\": d, \"e\":e, \"f\" :f})\n",
    "    return X\n",
    "\n"
   ]
  },
  {
   "cell_type": "code",
   "execution_count": 352,
   "metadata": {},
   "outputs": [],
   "source": [
    "klasyfikator = DecisionTreeClassifier(criterion = \"entropy\")\n",
    "klasyfikator = create_klas (image('photos/Image_03L.jpg'),'photos/Image_03L_1stHO.png', klasyfikator)"
   ]
  },
  {
   "cell_type": "code",
   "execution_count": 354,
   "metadata": {
    "scrolled": true
   },
   "outputs": [],
   "source": [
    "predicted = klasyfikator.predict(prepare(image(selector.value[0])))"
   ]
  },
  {
   "cell_type": "code",
   "execution_count": 355,
   "metadata": {
    "scrolled": false
   },
   "outputs": [
    {
     "data": {
      "text/plain": [
       "<matplotlib.image.AxesImage at 0x23506a0a248>"
      ]
     },
     "execution_count": 355,
     "metadata": {},
     "output_type": "execute_result"
    },
    {
     "data": {
      "image/png": "[encoded data removed]",
      "text/plain": [
       "<Figure size 720x720 with 1 Axes>"
      ]
     },
     "metadata": {
      "needs_background": "light"
     },
     "output_type": "display_data"
    }
   ],
   "source": [
    "x, y = cv2.imread(selector.value[0],0).shape\n",
    "predicted = np.array_split(predicted, x//5)\n",
    "plt.figure(figsize=(10, 10))\n",
    "plt.imshow(predicted, cmap=plt.cm.gray)"
   ]
  },
  {
   "cell_type": "code",
   "execution_count": null,
   "metadata": {},
   "outputs": [],
   "source": []
  }
 ],
 "metadata": {
  "kernelspec": {
   "display_name": "Python 3",
   "language": "python",
   "name": "python3"
  },
  "language_info": {
   "codemirror_mode": {
    "name": "ipython",
    "version": 3
   },
   "file_extension": ".py",
   "mimetype": "text/x-python",
   "name": "python",
   "nbconvert_exporter": "python",
   "pygments_lexer": "ipython3",
   "version": "3.7.4"
  }
 },
 "nbformat": 4,
 "nbformat_minor": 4
}
