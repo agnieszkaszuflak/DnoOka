{
 "cells": [
  {
   "cell_type": "code",
   "execution_count": 556,
   "metadata": {},
   "outputs": [],
   "source": [
    "from matplotlib import pyplot as plt\n",
    "from skimage import data, io\n",
    "import ipywidgets as widgets\n",
    "from ipywidgets import Button, Layout\n",
    "import cv2\n",
    "import numpy as np\n",
    "from skimage.filters import threshold_local\n",
    "from skimage.color import rgb2gray\n",
    "import numpy as np\n",
    "from skimage.morphology import disk, dilation, erosion\n",
    "from scipy.stats import moment\n",
    "from sklearn.tree import DecisionTreeClassifier\n",
    "from sklearn.model_selection import train_test_split\n",
    "from sklearn.model_selection import KFold\n",
    "from sklearn.model_selection import cross_val_score, cross_val_predict\n",
    "from skimage import img_as_float\n"
   ]
  },
  {
   "cell_type": "code",
   "execution_count": 557,
   "metadata": {},
   "outputs": [
    {
     "data": {
      "application/vnd.jupyter.widget-view+json": {
       "model_id": "0c0b3dc83da1408ea744031240565ac2",
       "version_major": 2,
       "version_minor": 0
      },
      "text/plain": [
       "Dropdown(description='Image:', layout=Layout(height='30px', width='50%'), options=(('Test eye 1', ['photos/Ima…"
      ]
     },
     "metadata": {},
     "output_type": "display_data"
    }
   ],
   "source": [
    "style = {'description_width': '40%'}\n",
    "\n",
    "selector = widgets.Dropdown(\n",
    "    options=[('Test eye 1', ['photos/Image_01L.jpg','photos/Image_01L_1stHO.png']),\n",
    "             ('Test eye 2', ['photos/Image_02L.jpg','photos/Image_02L_1stHO.png']),\n",
    "             ('Test eye 3', ['photos/Image_11L.jpg','photos/Image_11L_1stHO.png']),\n",
    "             ('Test eye 4', ['photos/Image_13L.jpg','photos/Image_13L_1stHO.png']),\n",
    "             ('Test eye 5', ['photos/Image_08R.jpg','photos/Image_08R_1stHO.png']),\n",
    "             ('Healthy eye 1', 'photos/01_h.jpg'), ('Healthy eye 2', 'photos/02_h.jpg'),\n",
    "             ('Healthy eye 3', 'photos/03_h.jpg'), ('Healthy eye 4', 'photos/04_h.jpg'),\n",
    "            ('Healthy eye 5', 'photos/05_h.jpg'), ('Healthy eye 6', 'photos/06_h.jpg'),\n",
    "            ('Healthy eye 7', 'photos/07_h.jpg'), ('Healthy eye 8', 'photos/08_h.jpg'), \n",
    "            ('Healthy eye 9', 'photos/09_h.jpg'), ('Healthy eye 10', 'photos/010_h.jpg'),\n",
    "            ('Healthy eye 11', 'photos/011_h.jpg'), ('Healthy eye 12', 'photos/012_h.jpg'), \n",
    "            ('Healthy eye 13', 'photos/013_h.jpg'), ('Healthy eye 14', 'photos/014_h.jpg'), \n",
    "            ('Healthy eye 15', 'photos/015_h.jpg')],\n",
    "    value=['photos/Image_01L.jpg','photos/Image_01L_1stHO.png'],\n",
    "    description='Image:',\n",
    "    layout=Layout(width='50%', height='30px'),\n",
    "    style=style\n",
    ")\n",
    "\n",
    "display(selector)"
   ]
  },
  {
   "cell_type": "code",
   "execution_count": 565,
   "metadata": {},
   "outputs": [],
   "source": [
    "#image =cv2.imread(selector.value[0])\n",
    "def create_mask(image):\n",
    "    img = rgb2gray(image)\n",
    "    img[img[:, :] > 0.05] = 1\n",
    "    img[img[:, :] <= 0.05] = 0\n",
    "    img = erosion(img, disk(1))\n",
    "    img = dilation(img, disk(3))\n",
    "    img = erosion(img, disk(3))\n",
    "    return img\n",
    "\n",
    "def image(img):\n",
    "    mask = create_mask(cv2.imread(img))\n",
    "    img = cv2.imread(img,0)\n",
    "    equ = cv2.equalizeHist(img)\n",
    "    clahe = cv2.createCLAHE(clipLimit=2.0, tileGridSize=(8,8))\n",
    "    cl1 = clahe.apply(img)\n",
    "    block_size = 213\n",
    "    adaptive_thresh = threshold_local(cl1, block_size, offset=10)\n",
    "    binary_adaptive = cl1 > adaptive_thresh\n",
    "    binary_adaptive = dilation(dilation(dilation(erosion(binary_adaptive))))\n",
    "    binary_adaptive[mask == 0 ] = 1\n",
    "    exit = np.zeros(binary_adaptive.shape)\n",
    "    exit[binary_adaptive == True] = 0\n",
    "    exit[binary_adaptive == False] = 1    \n",
    "    exit = dilation(exit)\n",
    "    return exit\n",
    "\n",
    "\n",
    "def confusion_matrix(image, mask):\n",
    "    result = []\n",
    "    tp = 0\n",
    "    fp = 0\n",
    "    fn = 0\n",
    "    tn = 0\n",
    "    for i in range(len(image)):\n",
    "        row = []\n",
    "        for j in range(len(image[i])):\n",
    "            if (image[i][j] == 1.0):\n",
    "                if (mask[i][j] == 1.0):\n",
    "                    row.append([0, 255, 0]) #zielony\n",
    "                    tp+=1\n",
    "                elif (mask[i][j] == 0.0):\n",
    "                    row.append([255, 0, 0]) #czerwony\n",
    "                    fp+=1\n",
    "            elif (image[i][j] == 0.0):\n",
    "                if (mask[i][j] == 1.0):\n",
    "                    row.append([0, 0, 255]) #niebieski\n",
    "                    fn+=1\n",
    "                elif (mask[i][j] == 0.0):\n",
    "                    row.append([255, 255, 255]) #biały\n",
    "                    tn+=1\n",
    "        result.append(row)\n",
    "    return result, tp, fp, fn, tn\n"
   ]
  },
  {
   "cell_type": "code",
   "execution_count": 566,
   "metadata": {},
   "outputs": [
    {
     "data": {
      "text/plain": [
       "<matplotlib.image.AxesImage at 0x20f54b13b08>"
      ]
     },
     "execution_count": 566,
     "metadata": {},
     "output_type": "execute_result"
    },
    {
     "data": {
      "image/png": "[encoded data removed]",
      "text/plain": [
       "<Figure size 432x288 with 1 Axes>"
      ]
     },
     "metadata": {
      "needs_background": "light"
     },
     "output_type": "display_data"
    }
   ],
   "source": [
    "a = image(selector.value[0])\n",
    "plt.title('Obraz')\n",
    "plt.imshow(a, cmap = plt.cm.gray)"
   ]
  },
  {
   "cell_type": "code",
   "execution_count": 567,
   "metadata": {
    "scrolled": true
   },
   "outputs": [
    {
     "data": {
      "text/plain": [
       "<matplotlib.image.AxesImage at 0x20f54aeed48>"
      ]
     },
     "execution_count": 567,
     "metadata": {},
     "output_type": "execute_result"
    },
    {
     "data": {
      "image/png": "[encoded data removed]",
      "text/plain": [
       "<Figure size 432x288 with 1 Axes>"
      ]
     },
     "metadata": {
      "needs_background": "light"
     },
     "output_type": "display_data"
    }
   ],
   "source": [
    "mask = rgb2gray(cv2.imread(selector.value[1]))\n",
    "plt.title('Maska')\n",
    "plt.imshow(mask, cmap = plt.cm.gray)"
   ]
  },
  {
   "cell_type": "code",
   "execution_count": 568,
   "metadata": {},
   "outputs": [],
   "source": [
    "def create_matrix (img, hand):\n",
    "    res, tp, fp, fn, tn = confusion_matrix(img, hand)\n",
    "\n",
    "    #czułość\n",
    "    tpr = tp / (tp + fn)\n",
    "    #trafność\n",
    "    ppv = (tp + tn) / (tn + fn + tp + fp)\n",
    "    #swoistość\n",
    "    spc = tn / (fp + tn)\n",
    "\n",
    "    avg = (spc + tpr) / 2\n",
    "    print(\"trafność:\", ppv)\n",
    "    print(\"czułość:\", tpr)\n",
    "    print(\"swoistość:\", spc)\n",
    "    print(\"średnia arytmetyczna czułości i swoistości:\", avg)\n",
    "    plt.title('Macierz pomyłek')\n",
    "    red_patch = mpatches.Patch(color='red', label='FP')\n",
    "    blue_patch = mpatches.Patch(color='blue', label='FN')\n",
    "    white_patch = mpatches.Patch(color='white', label='TN')\n",
    "    green_patch = mpatches.Patch(color='green', label='TP')\n",
    "    plt.legend(handles=[red_patch, blue_patch,white_patch, green_patch], loc='center left', bbox_to_anchor=(1, 0.5))\n",
    "    plt.imshow(res)"
   ]
  },
  {
   "cell_type": "code",
   "execution_count": 569,
   "metadata": {},
   "outputs": [],
   "source": [
    "def get_features(img):\n",
    "    cen_moments_2 = []\n",
    "    cen_moments_3 = []\n",
    "    cen_moments_4 = []\n",
    "    cen_moments_5 = []\n",
    "    for i in range(len(img)// 5):\n",
    "        for j in range(len(img[0]) // 5):\n",
    "            part_img = img [5*i:5*(i+1), 5*j:5*(j+1)].flatten()\n",
    "            cen_moments_2.append(moment(part_img, moment = 2))\n",
    "            cen_moments_3.append(moment(part_img, moment = 3))\n",
    "            cen_moments_4.append(moment(part_img, moment = 4))\n",
    "            cen_moments_5.append(moment(part_img, moment = 5))\n",
    "    return list(map(list, zip(cen_moments_2, cen_moments_3, cen_moments_4, cen_moments_5)))\n",
    "\n",
    "def get_labels(img):\n",
    "    label = [] \n",
    "    for i in range(len(img) // 5):\n",
    "        for j in range(len(img[0]) // 5):\n",
    "            img_part = img[5*i : 5*(i+1), 5*j : 5*(j+1)]\n",
    "            label.append(img_part[2,2])\n",
    "    return label\n",
    "\n",
    "def prepare(img, predicted,file):\n",
    "    data = get_labels(img_as_float(cv2.imread(file,0)))\n",
    "    x, y1 = img.shape\n",
    "    pre = []\n",
    "    hand = []\n",
    "    k = 0\n",
    "    for i in range(x//5):\n",
    "        pre.append([])\n",
    "        hand.append([])\n",
    "        for j in range(y1//5):\n",
    "            pre[i] += [predicted[k]]\n",
    "            hand[i] += [data[k]]\n",
    "            k += 1\n",
    "    return pre, hand"
   ]
  },
  {
   "cell_type": "code",
   "execution_count": 570,
   "metadata": {},
   "outputs": [],
   "source": [
    "def data(tab):\n",
    "    X = []\n",
    "    y = []\n",
    "    for i in tab:\n",
    "        img  = image(i[0])\n",
    "        hand = img_as_float(cv2.imread(i[1],0))\n",
    "        X += get_features(img)\n",
    "        y += get_labels(hand)\n",
    "    \n",
    "    clf = DecisionTreeClassifier(criterion = \"entropy\")\n",
    "    kfold = KFold(6, True, 1)\n",
    "    X_train = []\n",
    "    y_train = []\n",
    "    X_test = []\n",
    "    y_test = []\n",
    "    for train_index, test_index in kfold.split(X):\n",
    "        for i in train_index:\n",
    "            X_train.append(X[i])\n",
    "            y_train.append(y[i])\n",
    "        for h in test_index:\n",
    "            X_test.append(X[h])\n",
    "            y_test.append(y[h])\n",
    "    clf = clf.fit(X_train, y_train)\n",
    "    scores = cross_val_score(clf, X, y, cv = 6)\n",
    "    print (\"Cross-validated scores:\", scores)\n",
    "    print(\"score \", clf.score(X_test, y_test))\n",
    "    predictions = cross_val_predict(clf, X, y, cv=6)\n",
    "    #print(predictions)\n",
    "    return clf\n"
   ]
  },
  {
   "cell_type": "code",
   "execution_count": 576,
   "metadata": {
    "scrolled": false
   },
   "outputs": [
    {
     "ename": "AttributeError",
     "evalue": "'NoneType' object has no attribute 'ndim'",
     "output_type": "error",
     "traceback": [
      "\u001b[1;31m---------------------------------------------------------------------------\u001b[0m",
      "\u001b[1;31mAttributeError\u001b[0m                            Traceback (most recent call last)",
      "\u001b[1;32m<ipython-input-576-ea315d782535>\u001b[0m in \u001b[0;36m<module>\u001b[1;34m\u001b[0m\n\u001b[0;32m      1\u001b[0m \u001b[1;31m#clf  = data([[\"photos/Image_01L.jpg\",\"photos/Image_01L_1stHO.png\"]])\u001b[0m\u001b[1;33m\u001b[0m\u001b[1;33m\u001b[0m\u001b[1;33m\u001b[0m\u001b[0m\n\u001b[1;32m----> 2\u001b[1;33m \u001b[0mclf\u001b[0m \u001b[1;33m=\u001b[0m \u001b[0mdata\u001b[0m\u001b[1;33m(\u001b[0m\u001b[1;33m[\u001b[0m\u001b[1;33m[\u001b[0m\u001b[1;34m\"test/Image_5L.jpg\"\u001b[0m\u001b[1;33m,\u001b[0m\u001b[1;34m\"test/Image_05L_1stHO.png\"\u001b[0m\u001b[1;33m]\u001b[0m\u001b[1;33m]\u001b[0m\u001b[1;33m)\u001b[0m\u001b[1;33m\u001b[0m\u001b[1;33m\u001b[0m\u001b[0m\n\u001b[0m\u001b[0;32m      3\u001b[0m \u001b[0mcheck\u001b[0m \u001b[1;33m=\u001b[0m \u001b[0mget_features\u001b[0m\u001b[1;33m(\u001b[0m\u001b[0mimage\u001b[0m\u001b[1;33m(\u001b[0m\u001b[0mselector\u001b[0m\u001b[1;33m.\u001b[0m\u001b[0mvalue\u001b[0m\u001b[1;33m[\u001b[0m\u001b[1;36m0\u001b[0m\u001b[1;33m]\u001b[0m\u001b[1;33m)\u001b[0m\u001b[1;33m)\u001b[0m\u001b[1;33m\u001b[0m\u001b[1;33m\u001b[0m\u001b[0m\n\u001b[0;32m      4\u001b[0m \u001b[0mpredicted\u001b[0m \u001b[1;33m=\u001b[0m \u001b[0mclf\u001b[0m\u001b[1;33m.\u001b[0m\u001b[0mpredict\u001b[0m\u001b[1;33m(\u001b[0m\u001b[0mcheck\u001b[0m\u001b[1;33m)\u001b[0m\u001b[1;33m\u001b[0m\u001b[1;33m\u001b[0m\u001b[0m\n\u001b[0;32m      5\u001b[0m \u001b[0mpredict\u001b[0m\u001b[1;33m,\u001b[0m \u001b[0mhand\u001b[0m \u001b[1;33m=\u001b[0m \u001b[0mprepare\u001b[0m\u001b[1;33m(\u001b[0m\u001b[0mimage\u001b[0m\u001b[1;33m(\u001b[0m\u001b[0mselector\u001b[0m\u001b[1;33m.\u001b[0m\u001b[0mvalue\u001b[0m\u001b[1;33m[\u001b[0m\u001b[1;36m0\u001b[0m\u001b[1;33m]\u001b[0m\u001b[1;33m)\u001b[0m\u001b[1;33m,\u001b[0m \u001b[0mpredicted\u001b[0m\u001b[1;33m,\u001b[0m\u001b[0mselector\u001b[0m\u001b[1;33m.\u001b[0m\u001b[0mvalue\u001b[0m\u001b[1;33m[\u001b[0m\u001b[1;36m1\u001b[0m\u001b[1;33m]\u001b[0m\u001b[1;33m)\u001b[0m\u001b[1;33m\u001b[0m\u001b[1;33m\u001b[0m\u001b[0m\n",
      "\u001b[1;32m<ipython-input-570-9acdd48218d3>\u001b[0m in \u001b[0;36mdata\u001b[1;34m(tab)\u001b[0m\n\u001b[0;32m      3\u001b[0m     \u001b[0my\u001b[0m \u001b[1;33m=\u001b[0m \u001b[1;33m[\u001b[0m\u001b[1;33m]\u001b[0m\u001b[1;33m\u001b[0m\u001b[1;33m\u001b[0m\u001b[0m\n\u001b[0;32m      4\u001b[0m     \u001b[1;32mfor\u001b[0m \u001b[0mi\u001b[0m \u001b[1;32min\u001b[0m \u001b[0mtab\u001b[0m\u001b[1;33m:\u001b[0m\u001b[1;33m\u001b[0m\u001b[1;33m\u001b[0m\u001b[0m\n\u001b[1;32m----> 5\u001b[1;33m         \u001b[0mimg\u001b[0m  \u001b[1;33m=\u001b[0m \u001b[0mimage\u001b[0m\u001b[1;33m(\u001b[0m\u001b[0mi\u001b[0m\u001b[1;33m[\u001b[0m\u001b[1;36m0\u001b[0m\u001b[1;33m]\u001b[0m\u001b[1;33m)\u001b[0m\u001b[1;33m\u001b[0m\u001b[1;33m\u001b[0m\u001b[0m\n\u001b[0m\u001b[0;32m      6\u001b[0m         \u001b[0mhand\u001b[0m \u001b[1;33m=\u001b[0m \u001b[0mimg_as_float\u001b[0m\u001b[1;33m(\u001b[0m\u001b[0mcv2\u001b[0m\u001b[1;33m.\u001b[0m\u001b[0mimread\u001b[0m\u001b[1;33m(\u001b[0m\u001b[0mi\u001b[0m\u001b[1;33m[\u001b[0m\u001b[1;36m1\u001b[0m\u001b[1;33m]\u001b[0m\u001b[1;33m,\u001b[0m\u001b[1;36m0\u001b[0m\u001b[1;33m)\u001b[0m\u001b[1;33m)\u001b[0m\u001b[1;33m\u001b[0m\u001b[1;33m\u001b[0m\u001b[0m\n\u001b[0;32m      7\u001b[0m         \u001b[0mX\u001b[0m \u001b[1;33m+=\u001b[0m \u001b[0mget_features\u001b[0m\u001b[1;33m(\u001b[0m\u001b[0mimg\u001b[0m\u001b[1;33m)\u001b[0m\u001b[1;33m\u001b[0m\u001b[1;33m\u001b[0m\u001b[0m\n",
      "\u001b[1;32m<ipython-input-565-a7a9e5c08ac9>\u001b[0m in \u001b[0;36mimage\u001b[1;34m(img)\u001b[0m\n\u001b[0;32m     10\u001b[0m \u001b[1;33m\u001b[0m\u001b[0m\n\u001b[0;32m     11\u001b[0m \u001b[1;32mdef\u001b[0m \u001b[0mimage\u001b[0m\u001b[1;33m(\u001b[0m\u001b[0mimg\u001b[0m\u001b[1;33m)\u001b[0m\u001b[1;33m:\u001b[0m\u001b[1;33m\u001b[0m\u001b[1;33m\u001b[0m\u001b[0m\n\u001b[1;32m---> 12\u001b[1;33m     \u001b[0mmask\u001b[0m \u001b[1;33m=\u001b[0m \u001b[0mcreate_mask\u001b[0m\u001b[1;33m(\u001b[0m\u001b[0mcv2\u001b[0m\u001b[1;33m.\u001b[0m\u001b[0mimread\u001b[0m\u001b[1;33m(\u001b[0m\u001b[0mimg\u001b[0m\u001b[1;33m,\u001b[0m\u001b[1;36m0\u001b[0m\u001b[1;33m)\u001b[0m\u001b[1;33m)\u001b[0m\u001b[1;33m\u001b[0m\u001b[1;33m\u001b[0m\u001b[0m\n\u001b[0m\u001b[0;32m     13\u001b[0m     \u001b[0mimg\u001b[0m \u001b[1;33m=\u001b[0m \u001b[0mcv2\u001b[0m\u001b[1;33m.\u001b[0m\u001b[0mimread\u001b[0m\u001b[1;33m(\u001b[0m\u001b[0mimg\u001b[0m\u001b[1;33m,\u001b[0m\u001b[1;36m0\u001b[0m\u001b[1;33m)\u001b[0m\u001b[1;33m\u001b[0m\u001b[1;33m\u001b[0m\u001b[0m\n\u001b[0;32m     14\u001b[0m     \u001b[0mequ\u001b[0m \u001b[1;33m=\u001b[0m \u001b[0mcv2\u001b[0m\u001b[1;33m.\u001b[0m\u001b[0mequalizeHist\u001b[0m\u001b[1;33m(\u001b[0m\u001b[0mimg\u001b[0m\u001b[1;33m)\u001b[0m\u001b[1;33m\u001b[0m\u001b[1;33m\u001b[0m\u001b[0m\n",
      "\u001b[1;32m<ipython-input-565-a7a9e5c08ac9>\u001b[0m in \u001b[0;36mcreate_mask\u001b[1;34m(image)\u001b[0m\n\u001b[0;32m      1\u001b[0m \u001b[1;31m#image =cv2.imread(selector.value[0])\u001b[0m\u001b[1;33m\u001b[0m\u001b[1;33m\u001b[0m\u001b[1;33m\u001b[0m\u001b[0m\n\u001b[0;32m      2\u001b[0m \u001b[1;32mdef\u001b[0m \u001b[0mcreate_mask\u001b[0m\u001b[1;33m(\u001b[0m\u001b[0mimage\u001b[0m\u001b[1;33m)\u001b[0m\u001b[1;33m:\u001b[0m\u001b[1;33m\u001b[0m\u001b[1;33m\u001b[0m\u001b[0m\n\u001b[1;32m----> 3\u001b[1;33m     \u001b[0mimg\u001b[0m \u001b[1;33m=\u001b[0m \u001b[0mrgb2gray\u001b[0m\u001b[1;33m(\u001b[0m\u001b[0mimage\u001b[0m\u001b[1;33m)\u001b[0m\u001b[1;33m\u001b[0m\u001b[1;33m\u001b[0m\u001b[0m\n\u001b[0m\u001b[0;32m      4\u001b[0m     \u001b[0mimg\u001b[0m\u001b[1;33m[\u001b[0m\u001b[0mimg\u001b[0m\u001b[1;33m[\u001b[0m\u001b[1;33m:\u001b[0m\u001b[1;33m,\u001b[0m \u001b[1;33m:\u001b[0m\u001b[1;33m]\u001b[0m \u001b[1;33m>\u001b[0m \u001b[1;36m0.05\u001b[0m\u001b[1;33m]\u001b[0m \u001b[1;33m=\u001b[0m \u001b[1;36m1\u001b[0m\u001b[1;33m\u001b[0m\u001b[1;33m\u001b[0m\u001b[0m\n\u001b[0;32m      5\u001b[0m     \u001b[0mimg\u001b[0m\u001b[1;33m[\u001b[0m\u001b[0mimg\u001b[0m\u001b[1;33m[\u001b[0m\u001b[1;33m:\u001b[0m\u001b[1;33m,\u001b[0m \u001b[1;33m:\u001b[0m\u001b[1;33m]\u001b[0m \u001b[1;33m<=\u001b[0m \u001b[1;36m0.05\u001b[0m\u001b[1;33m]\u001b[0m \u001b[1;33m=\u001b[0m \u001b[1;36m0\u001b[0m\u001b[1;33m\u001b[0m\u001b[1;33m\u001b[0m\u001b[0m\n",
      "\u001b[1;32m~\\Anaconda3\\lib\\site-packages\\skimage\\color\\colorconv.py\u001b[0m in \u001b[0;36mrgb2gray\u001b[1;34m(rgb)\u001b[0m\n\u001b[0;32m    794\u001b[0m     \"\"\"\n\u001b[0;32m    795\u001b[0m \u001b[1;33m\u001b[0m\u001b[0m\n\u001b[1;32m--> 796\u001b[1;33m     \u001b[1;32mif\u001b[0m \u001b[0mrgb\u001b[0m\u001b[1;33m.\u001b[0m\u001b[0mndim\u001b[0m \u001b[1;33m==\u001b[0m \u001b[1;36m2\u001b[0m\u001b[1;33m:\u001b[0m\u001b[1;33m\u001b[0m\u001b[1;33m\u001b[0m\u001b[0m\n\u001b[0m\u001b[0;32m    797\u001b[0m         \u001b[1;32mreturn\u001b[0m \u001b[0mnp\u001b[0m\u001b[1;33m.\u001b[0m\u001b[0mascontiguousarray\u001b[0m\u001b[1;33m(\u001b[0m\u001b[0mrgb\u001b[0m\u001b[1;33m)\u001b[0m\u001b[1;33m\u001b[0m\u001b[1;33m\u001b[0m\u001b[0m\n\u001b[0;32m    798\u001b[0m \u001b[1;33m\u001b[0m\u001b[0m\n",
      "\u001b[1;31mAttributeError\u001b[0m: 'NoneType' object has no attribute 'ndim'"
     ]
    }
   ],
   "source": [
    "#clf  = data([[\"photos/Image_01L.jpg\",\"photos/Image_01L_1stHO.png\"]])\n",
    "clf = data([[\"test/Image_5L.jpg\",\"test/Image_05L_1stHO.png\"]])\n",
    "check = get_features(image(selector.value[0]))\n",
    "predicted = clf.predict(check)\n",
    "predict, hand = prepare(image(selector.value[0]), predicted,selector.value[1])\n",
    "plt.figure(figsize=(8, 8))\n",
    "plt.imshow(predict, cmap=plt.cm.gray)\n",
    "create_matrix(predict, hand)"
   ]
  },
  {
   "cell_type": "code",
   "execution_count": null,
   "metadata": {},
   "outputs": [],
   "source": [
    "predicted = data([[\"test/Image_14L.jpg\",\"test/Image_014L_1stHO.png\"]],selector.value[0])\n",
    "\n",
    "plt.figure(figsize=(8, 8))\n",
    "plt.imshow(predict, cmap=plt.cm.gray)\n"
   ]
  },
  {
   "cell_type": "code",
   "execution_count": null,
   "metadata": {
    "scrolled": false
   },
   "outputs": [],
   "source": [
    "plt.figure(figsize=(8, 8))\n",
    "create_matrix(predict, hand)"
   ]
  },
  {
   "cell_type": "code",
   "execution_count": null,
   "metadata": {},
   "outputs": [],
   "source": []
  },
  {
   "cell_type": "code",
   "execution_count": null,
   "metadata": {},
   "outputs": [],
   "source": []
  }
 ],
 "metadata": {
  "kernelspec": {
   "display_name": "Python 3",
   "language": "python",
   "name": "python3"
  },
  "language_info": {
   "codemirror_mode": {
    "name": "ipython",
    "version": 3
   },
   "file_extension": ".py",
   "mimetype": "text/x-python",
   "name": "python",
   "nbconvert_exporter": "python",
   "pygments_lexer": "ipython3",
   "version": "3.7.4"
  }
 },
 "nbformat": 4,
 "nbformat_minor": 4
}
